{
 "cells": [
  {
   "cell_type": "markdown",
   "metadata": {},
   "source": [
    "# Interpolation (locally linear) for KISS-GP"
   ]
  },
  {
   "cell_type": "code",
   "execution_count": 2,
   "metadata": {
    "collapsed": true
   },
   "outputs": [],
   "source": [
    "from __future__ import absolute_import\n",
    "from __future__ import division\n",
    "from __future__ import print_function\n",
    "from __future__ import unicode_literals\n",
    "\n",
    "import torch\n",
    "from torch.autograd import Variable\n",
    "\n",
    "class RBFInterpolation(object):\n",
    "    def rbf_interpolation_kernel(self, scaled_grid_dist, sigma=1.5):\n",
    "        return (scaled_grid_dist/sigma).pow(2.).mul(-0.5).exp()\n",
    "        \n",
    "    \n",
    "    def interpolate(self, x_grid, x_target, interp_points=range(-2, 3)):\n",
    "        # The default interp_points interpretation in gpytorch is very illogical, flip it\n",
    "        #interp_points = interp_points[::-1]\n",
    "        \n",
    "        # Do some boundary checking\n",
    "        grid_mins = x_grid.min(1)[0]\n",
    "        grid_maxs = x_grid.max(1)[0]\n",
    "        x_target_min = x_target.min(0)[0]\n",
    "        x_target_max = x_target.max(0)[0]\n",
    "        lt_min_mask = (x_target_min - grid_mins).lt(-1e-7)\n",
    "        gt_max_mask = (x_target_max - grid_maxs).gt(1e-7)\n",
    "        if lt_min_mask.data.sum():\n",
    "            first_out_of_range = lt_min_mask.nonzero().squeeze(1)[0].data\n",
    "            raise RuntimeError(\n",
    "                (\n",
    "                    \"Received data that was out of bounds for the specified grid. \"\n",
    "                    \"Grid bounds were ({0:.3f}, {1:.3f}), but min = {2:.3f}, \"\n",
    "                    \"max = {3:.3f}\"\n",
    "                ).format(\n",
    "                    grid_mins[first_out_of_range].data[0],\n",
    "                    grid_maxs[first_out_of_range].data[0],\n",
    "                    x_target_min[first_out_of_range].data[0],\n",
    "                    x_target_max[first_out_of_range].data[0],\n",
    "                )\n",
    "            )\n",
    "        if gt_max_mask.data.sum():\n",
    "            first_out_of_range = gt_max_mask.nonzero().squeeze(1)[0].data\n",
    "            raise RuntimeError(\n",
    "                (\n",
    "                    \"Received data that was out of bounds for the specified grid. \"\n",
    "                    \"Grid bounds were ({0:.3f}, {1:.3f}), but min = {2:.3f}, \"\n",
    "                    \"max = {3:.3f}\"\n",
    "                ).format(\n",
    "                    grid_mins[first_out_of_range].data[0],\n",
    "                    grid_maxs[first_out_of_range].data[0],\n",
    "                    x_target_min[first_out_of_range].data[0],\n",
    "                    x_target_max[first_out_of_range].data[0],\n",
    "                )\n",
    "            )\n",
    "\n",
    "        # Now do interpolation\n",
    "        interp_points_flip = Variable(x_grid.data.new(interp_points[::-1]))\n",
    "        interp_points = Variable(x_grid.data.new(interp_points))\n",
    "\n",
    "        num_grid_points = x_grid.size(1)\n",
    "        num_target_points = x_target.size(0)\n",
    "        num_dim = x_target.size(-1)\n",
    "        num_coefficients = len(interp_points)\n",
    "\n",
    "        interp_values = Variable(x_target.data.new(num_target_points, num_coefficients ** num_dim).fill_(1))\n",
    "        interp_indices = Variable(x_grid.data.new(num_target_points, num_coefficients ** num_dim).zero_())\n",
    "\n",
    "        for i in range(num_dim):\n",
    "            grid_delta = x_grid[i, 1] - x_grid[i, 0]\n",
    "            lower_grid_pt_idxs = torch.round((x_target[:, i] - x_grid[i, 0]) / grid_delta).squeeze()\n",
    "            lower_pt_rel_dists = (x_target[:, i] - x_grid[i, 0]) / grid_delta - lower_grid_pt_idxs\n",
    "            lower_grid_pt_idxs = lower_grid_pt_idxs - interp_points.max()\n",
    "            lower_grid_pt_idxs.detach_()\n",
    "            \n",
    "\n",
    "            scaled_dist = lower_pt_rel_dists.unsqueeze(-1) + interp_points_flip.unsqueeze(-2)\n",
    "            dim_interp_values = self.rbf_interpolation_kernel(scaled_dist)\n",
    "\n",
    "            offset = (interp_points - interp_points.min()).unsqueeze(-2)\n",
    "            dim_interp_indices = lower_grid_pt_idxs.unsqueeze(-1) + offset\n",
    "            \n",
    "            # Find points who's closest lower grid point is the first grid point\n",
    "            # This corresponds to a boundary condition that we must fix manually.\n",
    "            \n",
    "            dim_interp_values[dim_interp_indices < 0.] = 0.\n",
    "            dim_interp_indices[dim_interp_indices < 0.] = float('nan')\n",
    "            \n",
    "            dim_interp_values[dim_interp_indices >= num_grid_points] = 0.\n",
    "            dim_interp_indices[dim_interp_indices >= num_grid_points] = float('nan')\n",
    "\n",
    "\n",
    "            n_inner_repeat = num_coefficients ** i\n",
    "            n_outer_repeat = num_coefficients ** (num_dim - i - 1)\n",
    "            index_coeff = num_grid_points ** (num_dim - i - 1)\n",
    "            dim_interp_indices = dim_interp_indices.unsqueeze(-1).repeat(1, n_inner_repeat, n_outer_repeat)\n",
    "            dim_interp_values = dim_interp_values.unsqueeze(-1).repeat(1, n_inner_repeat, n_outer_repeat)\n",
    "            interp_indices = interp_indices.add(dim_interp_indices.view(num_target_points, -1).mul(index_coeff))\n",
    "            interp_values = interp_values.mul(dim_interp_values.view(num_target_points, -1))\n",
    "\n",
    "            \n",
    "        interp_indices[torch.isnan(interp_indices)] = 0.\n",
    "        \n",
    "        return interp_indices.long(), interp_values.div(interp_values.sum(-1).unsqueeze(-1)) #Renormalise interp_values to 1"
   ]
  },
  {
   "cell_type": "code",
   "execution_count": null,
   "metadata": {
    "collapsed": true
   },
   "outputs": [],
   "source": [
    "# TODO load some 2D model"
   ]
  },
  {
   "cell_type": "code",
   "execution_count": null,
   "metadata": {
    "collapsed": true
   },
   "outputs": [],
   "source": [
    "#1D test\n",
    "RBFInterpolation().interpolate(\n",
    "torch.autograd.Variable(model.grid[0,:].view(1,-1)), torch.tensor([-130., 644.]).view(-1,1).cuda(), \n",
    "interp_points=range(-4,5))"
   ]
  },
  {
   "cell_type": "code",
   "execution_count": null,
   "metadata": {
    "collapsed": true
   },
   "outputs": [],
   "source": [
    "#2D test\n",
    "RBFInterpolation().interpolate(\n",
    "    torch.autograd.Variable(model.grid), torch.tensor([[-130.,-130.], [644.,644.]]).cuda(), interp_points=range(-2,3))\n"
   ]
  },
  {
   "cell_type": "code",
   "execution_count": null,
   "metadata": {
    "collapsed": true
   },
   "outputs": [],
   "source": []
  }
 ],
 "metadata": {
  "kernelspec": {
   "display_name": "Python [conda env:preprocEnv]",
   "language": "python",
   "name": "conda-env-preprocEnv-py"
  },
  "language_info": {
   "codemirror_mode": {
    "name": "ipython",
    "version": 3
   },
   "file_extension": ".py",
   "mimetype": "text/x-python",
   "name": "python",
   "nbconvert_exporter": "python",
   "pygments_lexer": "ipython3",
   "version": "3.7.0"
  }
 },
 "nbformat": 4,
 "nbformat_minor": 2
}
