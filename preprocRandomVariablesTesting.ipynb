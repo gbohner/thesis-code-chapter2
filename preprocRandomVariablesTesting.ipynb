{
 "cells": [
  {
   "cell_type": "code",
   "execution_count": 1,
   "metadata": {
    "collapsed": true
   },
   "outputs": [],
   "source": [
    "import torch\n",
    "import math\n",
    "import gpytorch\n",
    "from gpytorch.random_variables import RandomVariable, MixtureRandomVariable"
   ]
  },
  {
   "cell_type": "code",
   "execution_count": 2,
   "metadata": {
    "collapsed": true
   },
   "outputs": [],
   "source": [
    "class MixtureRandomVariableWithSampler(gpytorch.random_variables.MixtureRandomVariable):\n",
    "    def sample(self, n_samples=1):\n",
    "        # Get representation\n",
    "        rand_vars, weights = self.representation()\n",
    "\n",
    "        # Sample from a categorical distribution\n",
    "        sample_ids = torch.distributions.categorical.Categorical(probs=weights).sample((n_samples,))\n",
    "\n",
    "        # Sample from the individual distributions\n",
    "        samples = torch.tensor([rand_vars[i].sample(1) for i in sample_ids], device=weights.device)\n",
    "\n",
    "        return samples"
   ]
  },
  {
   "cell_type": "code",
   "execution_count": 3,
   "metadata": {
    "collapsed": true
   },
   "outputs": [],
   "source": [
    "class BatchRandomVariable(gpytorch.random_variables.RandomVariable):\n",
    "    def __init__(self, *rand_vars, **kwargs):\n",
    "        \"\"\"\n",
    "        Batch of random variables\n",
    "        Params:\n",
    "        - rand_vars (iterable of RandomVariables with b elements)\n",
    "        \"\"\"\n",
    "        \n",
    "        super(BatchRandomVariable, self).__init__(*rand_vars, **kwargs)\n",
    "        if not all(isinstance(rand_var, RandomVariable) for rand_var in rand_vars):\n",
    "            raise RuntimeError(\"Everything needs to be an instance of a random variable\")\n",
    "            \n",
    "        self.rand_vars = rand_vars\n",
    "        \n",
    "    def representation(self):\n",
    "        return self.rand_vars\n",
    "    \n",
    "    def mean(self):\n",
    "        means = [rand_var.mean() for rand_var in self.rand_vars]\n",
    "        return torch.tensor(means, device=means[0].device)\n",
    "    \n",
    "    def var(self):\n",
    "        variances = [rand_var.var() for rand_var in self.rand_vars]\n",
    "        return torch.tensor(variances, device=variances[0].device)\n",
    "    \n",
    "    def sample(self, n_samples=1):\n",
    "        '''\n",
    "        Sample n_samples for each of the b rand_vars and return an \n",
    "        b x (d) x n_samples... object consistent with random variables for which batch mode is enabled\n",
    "        '''\n",
    "        \n",
    "        # b x ... x n_samples  Implementation (copying GaussianRandomVariable)\n",
    "        samples = torch.cat([rand_var.sample(n_samples).squeeze().unsqueeze(0) for rand_var in self.rand_vars])\n",
    "        return samples\n",
    "\n",
    "#         # n_samples x b x ... Implementation\n",
    "#         samples = torch.cat([rand_var.sample(n_samples).unsqueeze(0) for rand_var in self.rand_vars])\n",
    "#         return samples.permute(1,0, *range(2,samples.ndimension()))"
   ]
  },
  {
   "cell_type": "code",
   "execution_count": null,
   "metadata": {
    "collapsed": true
   },
   "outputs": [],
   "source": []
  }
 ],
 "metadata": {
  "kernelspec": {
   "display_name": "Python [conda env:preprocEnv]",
   "language": "python",
   "name": "conda-env-preprocEnv-py"
  },
  "language_info": {
   "codemirror_mode": {
    "name": "ipython",
    "version": 3
   },
   "file_extension": ".py",
   "mimetype": "text/x-python",
   "name": "python",
   "nbconvert_exporter": "python",
   "pygments_lexer": "ipython3",
   "version": "3.7.0"
  }
 },
 "nbformat": 4,
 "nbformat_minor": 2
}
