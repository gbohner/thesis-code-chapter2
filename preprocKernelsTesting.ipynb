{
 "cells": [
  {
   "cell_type": "code",
   "execution_count": null,
   "metadata": {},
   "outputs": [],
   "source": [
    "import torch\n",
    "import math\n",
    "import gpytorch\n",
    "\n",
    "# %load_ext autoreload\n",
    "# %autoreload 2\n",
    "\n",
    "import preprocUtils\n",
    "import preprocRandomVariables\n",
    "import preprocLikelihoods\n",
    "import preprocModels\n",
    "\n",
    "import numpy\n",
    "from torch import nn, optim\n",
    "from torch.autograd import Variable\n",
    "from gpytorch.kernels import RBFKernel, GridInterpolationKernel, Kernel\n",
    "from gpytorch.means import ConstantMean\n",
    "from gpytorch.likelihoods import GaussianLikelihood\n",
    "from gpytorch.random_variables import GaussianRandomVariable"
   ]
  },
  {
   "cell_type": "code",
   "execution_count": 1,
   "metadata": {},
   "outputs": [
    {
     "data": {
      "text/html": [
       "<script>requirejs.config({paths: { 'plotly': ['https://cdn.plot.ly/plotly-latest.min']},});if(!window.Plotly) {{require(['plotly'],function(plotly) {window.Plotly=plotly;});}}</script>"
      ],
      "text/vnd.plotly.v1+html": [
       "<script>requirejs.config({paths: { 'plotly': ['https://cdn.plot.ly/plotly-latest.min']},});if(!window.Plotly) {{require(['plotly'],function(plotly) {window.Plotly=plotly;});}}</script>"
      ]
     },
     "metadata": {},
     "output_type": "display_data"
    }
   ],
   "source": [
    "# Plotly \n",
    "import plotly\n",
    "from plotly import graph_objs as plt_type\n",
    "\n",
    "plot_in_browser = True\n",
    "if plot_in_browser:\n",
    "    from plotly.offline import iplot as plt\n",
    "    plotly.offline.init_notebook_mode(connected=True)\n",
    "else:\n",
    "    def plt(*args, **kwargs):\n",
    "        plotly.offline.plot(*args, **kwargs, auto_open=False)\n",
    "    \n",
    "# import nbimporter\n",
    "# from preprocVisualisationTesting import *"
   ]
  },
  {
   "cell_type": "code",
   "execution_count": null,
   "metadata": {},
   "outputs": [],
   "source": [
    "plt([plt_type.Scatter(x=[1, 2, 3], y=[3, 2, 6])])"
   ]
  },
  {
   "cell_type": "code",
   "execution_count": null,
   "metadata": {},
   "outputs": [],
   "source": [
    "plotly.__version__\n"
   ]
  },
  {
   "cell_type": "code",
   "execution_count": null,
   "metadata": {},
   "outputs": [],
   "source": [
    "a = 3"
   ]
  },
  {
   "cell_type": "code",
   "execution_count": null,
   "metadata": {},
   "outputs": [],
   "source": [
    "plt([plt_type.Scatter(x=[1, 2, 3], y=[3, 2, 6])], filename='my-graph.html')\n",
    "# We can also download an image of the plot by setting the image parameter\n",
    "# to the image format we want\n"
   ]
  },
  {
   "cell_type": "code",
   "execution_count": null,
   "metadata": {},
   "outputs": [],
   "source": [
    "help(plotly.offline.offline.image)"
   ]
  },
  {
   "cell_type": "code",
   "execution_count": null,
   "metadata": {},
   "outputs": [],
   "source": [
    "help(plotly.offline.plot\n",
    ")"
   ]
  },
  {
   "cell_type": "code",
   "execution_count": 2,
   "metadata": {},
   "outputs": [
    {
     "data": {
      "application/vnd.plotly.v1+json": {
       "data": [
        {
         "type": "scatter",
         "uid": "00517f2a-a255-11e8-b0fb-98f2b3ed0016",
         "x": [
          1,
          2,
          3
         ],
         "y": [
          3,
          2,
          6
         ]
        }
       ],
       "layout": {}
      },
      "text/html": [
       "<div id=\"929daed7-8b81-40ca-bea9-79a8d39831c1\" style=\"height: 525px; width: 100%;\" class=\"plotly-graph-div\"></div><script type=\"text/javascript\">require([\"plotly\"], function(Plotly) { window.PLOTLYENV=window.PLOTLYENV || {};window.PLOTLYENV.BASE_URL=\"https://plot.ly\";Plotly.newPlot(\"929daed7-8b81-40ca-bea9-79a8d39831c1\", [{\"x\": [1, 2, 3], \"y\": [3, 2, 6], \"type\": \"scatter\", \"uid\": \"00517f2b-a255-11e8-b0fb-98f2b3ed0016\"}], {}, {\"showLink\": true, \"linkText\": \"Export to plot.ly\"})});</script>"
      ],
      "text/vnd.plotly.v1+html": [
       "<div id=\"929daed7-8b81-40ca-bea9-79a8d39831c1\" style=\"height: 525px; width: 100%;\" class=\"plotly-graph-div\"></div><script type=\"text/javascript\">require([\"plotly\"], function(Plotly) { window.PLOTLYENV=window.PLOTLYENV || {};window.PLOTLYENV.BASE_URL=\"https://plot.ly\";Plotly.newPlot(\"929daed7-8b81-40ca-bea9-79a8d39831c1\", [{\"x\": [1, 2, 3], \"y\": [3, 2, 6], \"type\": \"scatter\", \"uid\": \"00517f2b-a255-11e8-b0fb-98f2b3ed0016\"}], {}, {\"showLink\": true, \"linkText\": \"Export to plot.ly\"})});</script>"
      ]
     },
     "metadata": {},
     "output_type": "display_data"
    },
    {
     "data": {
      "text/html": [
       "<script>function downloadimage(format, height, width, filename) {var p = document.getElementById('929daed7-8b81-40ca-bea9-79a8d39831c1');Plotly.downloadImage(p, {format: format, height: height, width: width, filename: filename});};if(document.readyState == 'complete') {{downloadimage('svg', 500, 3500, 'plot_image');}}</script>"
      ],
      "text/plain": [
       "<IPython.core.display.HTML object>"
      ]
     },
     "metadata": {},
     "output_type": "display_data"
    }
   ],
   "source": [
    "plt([plt_type.Scatter(x=[1, 2, 3], y=[3, 2, 6])], image_width=3500, image_height=500, image='svg')"
   ]
  },
  {
   "cell_type": "code",
   "execution_count": null,
   "metadata": {},
   "outputs": [],
   "source": [
    "plt([plt_type.Scatter(x=[1, 2, 3], y=[3, 2, 6])], output_type='file', image_filename='figures/bla',\n",
    "     image='png')"
   ]
  },
  {
   "cell_type": "code",
   "execution_count": 3,
   "metadata": {},
   "outputs": [],
   "source": [
    "import os"
   ]
  },
  {
   "cell_type": "code",
   "execution_count": null,
   "metadata": {},
   "outputs": [],
   "source": []
  },
  {
   "cell_type": "code",
   "execution_count": 4,
   "metadata": {},
   "outputs": [
    {
     "data": {
      "text/plain": [
       "environ({'MODULE_VERSION_STACK': '3.2.10', 'XDG_SESSION_ID': '11614', 'TERM': 'xterm-color', 'SHELL': '/bin/bash', 'SSH_CLIENT': '192.168.213.21 33856 22', 'CONDA_SHLVL': '1', 'CONDA_PROMPT_MODIFIER': '(preprocEnv) ', 'SSH_TTY': '/dev/pts/8', 'USER': 'gbohner', 'LD_LIBRARY_PATH': '/nfs/nhome/live/gbohner/torch/install/lib:/nfs/nhome/live/gbohner/torch/install/lib:', 'CONDA_EXE': '/nfs/nhome/live/gbohner/anaconda2/bin/conda', 'TMUX': '/tmp/tmux-5287/default,38161,0', 'PATH': '/nfs/nhome/live/gbohner/anaconda2/envs/preprocEnv/bin:/nfs/nhome/live/gbohner/anaconda2/envs/preprocEnv/bin:/nfs/nhome/live/gbohner/bin/julia:/nfs/nhome/live/gbohner/bin/julia-0.4.7/bin:/nfs/nhome/live/gbohner/anaconda2/bin:/nfs/nhome/live/gbohner/torch/install/bin:/nfs/nhome/live/gbohner/bin/julia:/nfs/nhome/live/gbohner/bin/julia-0.4.7/bin:/nfs/nhome/live/gbohner/anaconda2/bin:/nfs/nhome/live/gbohner/torch/install/bin:/usr/local/sbin:/usr/local/bin:/usr/sbin:/usr/bin:/sbin:/bin:/usr/games:/usr/local/games:/snap/bin:/snap/bin:/snap/bin:/snap/bin', 'MODULE_VERSION': '3.2.10', 'MAIL': '/var/mail/gbohner', 'QT_QPA_PLATFORMTHEME': 'appmenu-qt5', 'CONDA_PREFIX': '/nfs/nhome/live/gbohner/anaconda2/envs/preprocEnv', 'PWD': '/nfs/nhome/live/gbohner', 'LANG': 'en_GB.UTF-8', 'LUA_PATH': '/nfs/nhome/live/gbohner/.luarocks/share/lua/5.1/?.lua;/nfs/nhome/live/gbohner/.luarocks/share/lua/5.1/?/init.lua;/nfs/nhome/live/gbohner/torch/install/share/lua/5.1/?.lua;/nfs/nhome/live/gbohner/torch/install/share/lua/5.1/?/init.lua;./?.lua;/nfs/nhome/live/gbohner/torch/install/share/luajit-2.1.0-alpha/?.lua;/usr/local/share/lua/5.1/?.lua;/usr/local/share/lua/5.1/?/init.lua', 'MODULEPATH': '/etc/environment-modules/modules:/usr/share/modules/versions:/usr/Modules/$MODULE_VERSION/modulefiles:/usr/share/modules/modulefiles:/opt/Modules/modulefiles', 'LUA_CPATH': '/nfs/nhome/live/gbohner/.luarocks/lib/lua/5.1/?.so;/nfs/nhome/live/gbohner/torch/install/lib/lua/5.1/?.so;./?.so;/usr/local/lib/lua/5.1/?.so;/usr/local/lib/lua/5.1/loadall.so', 'LOADEDMODULES': '', 'TMUX_PANE': '%1', 'SHLVL': '2', 'HOME': '/nfs/nhome/live/gbohner', 'LANGUAGE': 'en_GB:en', 'DYLD_LIBRARY_PATH': '/nfs/nhome/live/gbohner/torch/install/lib:/nfs/nhome/live/gbohner/torch/install/lib:', 'CONDA_PYTHON_EXE': '/nfs/nhome/live/gbohner/anaconda2/bin/python', 'LOGNAME': 'gbohner', 'SSH_CONNECTION': '192.168.213.21 33856 192.168.213.227 22', 'MODULESHOME': '/usr/share/modules', 'CONDA_DEFAULT_ENV': 'preprocEnv', 'XDG_RUNTIME_DIR': '/run/user/5287', 'BASH_FUNC_module%%': '() {  eval `/usr/bin/modulecmd bash $*`\\n}', '_': '/nfs/nhome/live/gbohner/anaconda2/envs/preprocEnv/bin/jupyter', 'JPY_PARENT_PID': '2189', 'CLICOLOR': '1', 'PAGER': 'cat', 'GIT_PAGER': 'cat', 'MPLBACKEND': 'module://ipykernel.pylab.backend_inline'})"
      ]
     },
     "execution_count": 4,
     "metadata": {},
     "output_type": "execute_result"
    }
   ],
   "source": [
    "os.environ"
   ]
  },
  {
   "cell_type": "code",
   "execution_count": null,
   "metadata": {},
   "outputs": [],
   "source": [
    "from subprocess import call\n",
    "import json\n",
    "import plotly\n",
    "\n",
    "fig = {\"data\": [{\"y\": [1,2,1]}]}\n",
    "call(['orca', 'graph', json.dumps(fig, cls=plotly.utils.PlotlyJSONEncoder), '--format''-o '])\n"
   ]
  },
  {
   "cell_type": "code",
   "execution_count": null,
   "metadata": {},
   "outputs": [],
   "source": [
    "# Create a grid for testing\n",
    "grid_bounds = [(0., 1.), (0., 1.)]\n",
    "grid_size = 64\n",
    "grid = torch.zeros(len(grid_bounds), grid_size)\n",
    "for i in range(len(grid_bounds)):\n",
    "    grid_diff = float(grid_bounds[i][1] - grid_bounds[i][0]) / (grid_size - 2)\n",
    "    grid[i] = torch.linspace(grid_bounds[i][0] - grid_diff, grid_bounds[i][1] + grid_diff, grid_size)"
   ]
  },
  {
   "cell_type": "code",
   "execution_count": null,
   "metadata": {},
   "outputs": [],
   "source": [
    "# Create inducing points at grid locations\n",
    "inducing_points = torch.zeros(int(pow(grid_size, len(grid_bounds))), len(grid_bounds))\n",
    "prev_points = None\n",
    "for i in range(len(grid_bounds)):\n",
    "    for j in range(grid_size):\n",
    "        inducing_points[j * grid_size ** i : (j + 1) * grid_size ** i, i].fill_(grid[i, j])\n",
    "        if prev_points is not None:\n",
    "            inducing_points[j * grid_size ** i : (j + 1) * grid_size ** i, :i].copy_(prev_points)\n",
    "    prev_points = inducing_points[: grid_size ** (i + 1), : (i + 1)]"
   ]
  },
  {
   "cell_type": "code",
   "execution_count": null,
   "metadata": {},
   "outputs": [],
   "source": [
    "grid"
   ]
  },
  {
   "cell_type": "code",
   "execution_count": null,
   "metadata": {},
   "outputs": [],
   "source": [
    "inducing_points"
   ]
  },
  {
   "cell_type": "code",
   "execution_count": null,
   "metadata": {},
   "outputs": [],
   "source": [
    "#base_kernel_2d = RBFKernel(active_dims=0) + RBFKernel(active_dims=1)\n",
    "#base_kernel_2d.kernels[0].log_lengthscale = torch.nn.Parameter(torch.tensor([-1.]))\n",
    "#dict(base_kernel.named_parameters())\n",
    "\n",
    "#imagesc(RBFKernel()(torch.tensor([0.1, 0.5]).unsqueeze(0), inducing_points).evaluate().reshape(grid_size,grid_size))"
   ]
  },
  {
   "cell_type": "markdown",
   "metadata": {},
   "source": [
    "## Define novel center-symmetrized kernels"
   ]
  },
  {
   "cell_type": "code",
   "execution_count": null,
   "metadata": {},
   "outputs": [],
   "source": [
    "import preprocKernels\n",
    "from preprocKernels import SymmetriseKernelLinearly, SymmetriseKernelRadially"
   ]
  },
  {
   "cell_type": "code",
   "execution_count": null,
   "metadata": {},
   "outputs": [],
   "source": [
    "# class SymmetriseKernelLinearly(Kernel):\n",
    "#     def __init__(self, base_kernel_module, center, active_dims=None):\n",
    "#         super(SymmetriseKernelLinearly, self).__init__(active_dims=active_dims)\n",
    "#         self.base_kernel_module = base_kernel_module\n",
    "        \n",
    "#         self.register_parameter(name=\"center\", parameter=torch.nn.Parameter(center.squeeze()))\n",
    "        \n",
    "#         # TODO: Check if base_kernel_module is defined on the same dimensions as center\n",
    "        \n",
    "#     def forward(self, x1, x2, **kwargs):\n",
    "# #         print(self.center.shape)\n",
    "# #         print(x1.shape)\n",
    "#         if not self.center.shape[0] == x1.shape[-1]:\n",
    "#             raise RuntimeError(\"The input dimension should be the same as the center point dimension\")\n",
    "            \n",
    "#         return self.base_kernel_module(\n",
    "#             (x1 - self.center.unsqueeze(0)).abs(), \n",
    "#             (x2 - self.center.unsqueeze(0)).abs(), \n",
    "#             **kwargs\n",
    "#         )"
   ]
  },
  {
   "cell_type": "code",
   "execution_count": null,
   "metadata": {},
   "outputs": [],
   "source": [
    "# class SymmetriseKernelRadially(Kernel):\n",
    "#     def __init__(self, base_kernel_module, center, active_dims=None):\n",
    "#         super(SymmetriseKernelRadially, self).__init__(active_dims=active_dims)\n",
    "#         self.base_kernel_module = base_kernel_module\n",
    "        \n",
    "#         self.register_parameter(name=\"center\", parameter=torch.nn.Parameter(center.squeeze()))\n",
    "        \n",
    "#         # TODO: Check if base_kernel_module is defined for 1-dimensional inputs (that our radial transform creates)\n",
    "        \n",
    "#     def forward(self, x1, x2, **kwargs):\n",
    "#         \"\"\"\n",
    "#         Seemingly kernel inputs need to be 3 dimensional ( ? x num_points x num_dimensions),\n",
    "#         if any of these dimensions are dropped it doesn't work. ? is usually 1, I imagine it is num_batch\n",
    "#         \"\"\"\n",
    "# #         print(self.center.shape)\n",
    "# #         print(x1.shape)\n",
    "# #         print(x2.shape)\n",
    "#         if not self.center.shape[0] == x1.shape[-1]:\n",
    "#             raise RuntimeError(\"The input dimension should be the same as the center point dimension\")\n",
    "            \n",
    "# #         print((x1-self.center.unsqueeze(0)).shape) \n",
    "# #         print((x1-self.center.unsqueeze(0)).pow(2).sum(-1).sqrt().shape)\n",
    "            \n",
    "#         return self.base_kernel_module(\n",
    "#             (x1-self.center.view(1,1,-1)).pow(2).sum(-1).sqrt().unsqueeze(-1), \n",
    "#             (x2-self.center.view(1,1,-1)).pow(2).sum(-1).sqrt().unsqueeze(-1), \n",
    "#             **kwargs\n",
    "#         )"
   ]
  },
  {
   "cell_type": "code",
   "execution_count": null,
   "metadata": {},
   "outputs": [],
   "source": [
    "# # Debug input dimensionality\n",
    "# class PrintRBFKernel(RBFKernel):\n",
    "#     def forward(self, x1, x2):\n",
    "#         print(x1.shape)\n",
    "#         print(x2.shape)\n",
    "#         return super(PrintRBFKernel, self).forward(x1,x2)\n",
    "    \n",
    "# base_kernel_print = PrintRBFKernel()\n",
    "# print(base_kernel_print(inducing_points[:,0]).evaluate().shape)\n",
    "# print(base_kernel_print(inducing_points).evaluate().shape)"
   ]
  },
  {
   "cell_type": "markdown",
   "metadata": {},
   "source": [
    "## Compare the new kernels"
   ]
  },
  {
   "cell_type": "code",
   "execution_count": null,
   "metadata": {},
   "outputs": [],
   "source": [
    "RBFKernel().log_lengthscale.shape"
   ]
  },
  {
   "cell_type": "code",
   "execution_count": null,
   "metadata": {},
   "outputs": [],
   "source": [
    "center = torch.tensor([0.5, 0.5])\n",
    "point_eval = torch.tensor([0.1,0.3]).unsqueeze(0)"
   ]
  },
  {
   "cell_type": "code",
   "execution_count": null,
   "metadata": {},
   "outputs": [],
   "source": [
    "point_loc_tuple = tuple((point_eval*grid_size).numpy().tolist()[0])"
   ]
  },
  {
   "cell_type": "code",
   "execution_count": null,
   "metadata": {},
   "outputs": [],
   "source": [
    "# Non symmetrized-kernel\n",
    "imagesc(RBFKernel()(point_eval, inducing_points).evaluate().reshape(grid_size, grid_size), \n",
    "        title='Non symmetrized-kernel, point at (%d, %d)' % point_loc_tuple)"
   ]
  },
  {
   "cell_type": "code",
   "execution_count": null,
   "metadata": {},
   "outputs": [],
   "source": [
    "# Radially symmetrized kernel\n",
    "a1 = SymmetriseKernelRadially(RBFKernel(), center)(point_eval, inducing_points).evaluate()\n",
    "imagesc(a1.reshape(grid_size, grid_size), \n",
    "       title='Radially symmetrized-kernel, point at (%d, %d)' % point_loc_tuple)"
   ]
  },
  {
   "cell_type": "code",
   "execution_count": null,
   "metadata": {},
   "outputs": [],
   "source": [
    "import plotly.offline"
   ]
  },
  {
   "cell_type": "code",
   "execution_count": null,
   "metadata": {},
   "outputs": [],
   "source": [
    "plotly.offline.plot([plt_type.Heatmap(z=a2[0,:].reshape(grid_size, grid_size))], image_filename = 'test1', image='svg', image_height=1024, image_width=768)"
   ]
  },
  {
   "cell_type": "code",
   "execution_count": null,
   "metadata": {},
   "outputs": [],
   "source": [
    "# XY symmetric Kernel\n",
    "a2 = SymmetriseKernelLinearly(RBFKernel(), center)(point_eval, inducing_points).evaluate()\n",
    "imagesc(a2[0,:].reshape(grid_size, grid_size),\n",
    "      title='Linearly symmetrized-kernel, point at (%d, %d)' % point_loc_tuple)"
   ]
  },
  {
   "cell_type": "code",
   "execution_count": null,
   "metadata": {},
   "outputs": [],
   "source": []
  },
  {
   "cell_type": "markdown",
   "metadata": {},
   "source": [
    "# Add priors and individual output-scales to kernels"
   ]
  },
  {
   "cell_type": "code",
   "execution_count": null,
   "metadata": {},
   "outputs": [],
   "source": [
    "from preprocUtils import toTorchParam, updateModelParams\n",
    "from gpytorch.priors import SmoothedBoxPrior"
   ]
  },
  {
   "cell_type": "code",
   "execution_count": null,
   "metadata": {},
   "outputs": [],
   "source": [
    "k1 = RBFKernel()"
   ]
  },
  {
   "cell_type": "code",
   "execution_count": null,
   "metadata": {},
   "outputs": [],
   "source": [
    "k1.state_dict()"
   ]
  },
  {
   "cell_type": "code",
   "execution_count": null,
   "metadata": {},
   "outputs": [],
   "source": [
    "updateModelParams(k1,{'log_lengthscale': k1.log_lengthscale+2})"
   ]
  },
  {
   "cell_type": "code",
   "execution_count": null,
   "metadata": {},
   "outputs": [],
   "source": [
    "k1.state_dict()"
   ]
  },
  {
   "cell_type": "code",
   "execution_count": null,
   "metadata": {},
   "outputs": [],
   "source": [
    "k1.register_parameter('log_lengthscale',k1.log_lengthscale, prior=SmoothedBoxPrior(math.exp(-3),math.exp(0.5),log_transform=True))"
   ]
  },
  {
   "cell_type": "code",
   "execution_count": null,
   "metadata": {},
   "outputs": [],
   "source": [
    "k1.state_dict()"
   ]
  },
  {
   "cell_type": "code",
   "execution_count": null,
   "metadata": {},
   "outputs": [],
   "source": [
    "k2 = RBFKernel()"
   ]
  },
  {
   "cell_type": "code",
   "execution_count": null,
   "metadata": {},
   "outputs": [],
   "source": [
    "base_kernel = k1 + k2"
   ]
  },
  {
   "cell_type": "code",
   "execution_count": null,
   "metadata": {},
   "outputs": [],
   "source": [
    "base_kernel.state_dict()"
   ]
  },
  {
   "cell_type": "code",
   "execution_count": null,
   "metadata": {},
   "outputs": [],
   "source": [
    "k2.register_parameter('log_lengthscale',\n",
    "                      k2.log_lengthscale, \n",
    "                      prior=SmoothedBoxPrior(math.exp(-3),math.exp(0.5),log_transform=True))"
   ]
  },
  {
   "cell_type": "code",
   "execution_count": null,
   "metadata": {},
   "outputs": [],
   "source": [
    "base_kernel.state_dict()"
   ]
  },
  {
   "cell_type": "code",
   "execution_count": null,
   "metadata": {},
   "outputs": [],
   "source": [
    "base_kernel.state_dict()"
   ]
  },
  {
   "cell_type": "code",
   "execution_count": null,
   "metadata": {},
   "outputs": [],
   "source": [
    "base_kernel_with_weights = k1 + 0.5 * base_kernel.kernels[1]"
   ]
  },
  {
   "cell_type": "code",
   "execution_count": null,
   "metadata": {},
   "outputs": [],
   "source": []
  },
  {
   "cell_type": "code",
   "execution_count": null,
   "metadata": {},
   "outputs": [],
   "source": [
    "class ScaleKernel(Kernel):\n",
    "    \"\"\"\n",
    "    Adds an extra tunable output-scale parameter to the kernel\n",
    "    \"\"\"\n",
    "    def __init__(self, base_kernel, weight=1.0, weight_prior=None):\n",
    "        super(ScaleKernel, self).__init__()\n",
    "        self.base_kernel = base_kernel\n",
    "        self.register_parameter(\n",
    "            'log_outputscale',\n",
    "            toTorchParam(weight, ndims=1, to_log=True),\n",
    "            prior = weight_prior if weight_prior is not None else SmoothedBoxPrior(math.exp(-3),math.exp(1),log_transform=True)\n",
    "        )\n",
    "            \n",
    "    def forward(self, *inputs, **kwargs):\n",
    "        # Right-multiple (due to lazy-variables) with output scale\n",
    "        return self.base_kernel(*inputs, **kwargs).mul(self.log_outputscale.exp())"
   ]
  },
  {
   "cell_type": "code",
   "execution_count": null,
   "metadata": {},
   "outputs": [],
   "source": [
    "base_kernel = k1 + k2"
   ]
  },
  {
   "cell_type": "code",
   "execution_count": null,
   "metadata": {},
   "outputs": [],
   "source": [
    "base_kernel_with_weights = k1 + ScaleKernel(k2, 0.3)"
   ]
  },
  {
   "cell_type": "code",
   "execution_count": null,
   "metadata": {},
   "outputs": [],
   "source": [
    "base_kernel_with_weights(inducing_points).evaluate()"
   ]
  },
  {
   "cell_type": "code",
   "execution_count": null,
   "metadata": {},
   "outputs": [],
   "source": [
    "base_kernel(inducing_points).evaluate()"
   ]
  },
  {
   "cell_type": "code",
   "execution_count": null,
   "metadata": {},
   "outputs": [],
   "source": []
  },
  {
   "cell_type": "code",
   "execution_count": null,
   "metadata": {},
   "outputs": [],
   "source": [
    "# Register parameter of base_kernels\n",
    "k3 = preprocKernels.SymmetriseKernelRadially(ScaleKernel(RBFKernel()), center=torch.tensor([0.5,0.5]))"
   ]
  },
  {
   "cell_type": "code",
   "execution_count": null,
   "metadata": {},
   "outputs": [],
   "source": [
    "k3.state_dict()"
   ]
  },
  {
   "cell_type": "code",
   "execution_count": null,
   "metadata": {},
   "outputs": [],
   "source": [
    "# Try direct naming\n",
    "k3.register_parameter('base_kernel_module.base_kernel.log_lengthscale',\n",
    "                     toTorchParam(0.53, ndims=1),\n",
    "                     prior = SmoothedBoxPrior(-3, -1))"
   ]
  },
  {
   "cell_type": "code",
   "execution_count": null,
   "metadata": {},
   "outputs": [],
   "source": [
    "# Above doesn't work, have to manually navigate to relevant kernel submodule to register prior\n",
    "k3.base_kernel_module.base_kernel.register_parameter('log_lengthscale',\n",
    "                     toTorchParam(0.53, ndims=1),\n",
    "                     prior = SmoothedBoxPrior(-3, -1))"
   ]
  },
  {
   "cell_type": "code",
   "execution_count": null,
   "metadata": {},
   "outputs": [],
   "source": [
    "k3.state_dict()"
   ]
  },
  {
   "cell_type": "code",
   "execution_count": null,
   "metadata": {},
   "outputs": [],
   "source": [
    "k1"
   ]
  },
  {
   "cell_type": "code",
   "execution_count": null,
   "metadata": {},
   "outputs": [],
   "source": [
    "base_kernel = ScaleKernel(k1)+ScaleKernel(k2)+ScaleKernel(k3)"
   ]
  },
  {
   "cell_type": "code",
   "execution_count": null,
   "metadata": {},
   "outputs": [],
   "source": [
    "for name, param, prior in base_kernel.named_parameter_priors():\n",
    "    print name, prior.log_prob(param)"
   ]
  },
  {
   "cell_type": "code",
   "execution_count": null,
   "metadata": {},
   "outputs": [],
   "source": [
    "a = gpytorch.Module()"
   ]
  },
  {
   "cell_type": "code",
   "execution_count": null,
   "metadata": {},
   "outputs": [],
   "source": [
    "a.covar_module = base_kernel"
   ]
  },
  {
   "cell_type": "code",
   "execution_count": null,
   "metadata": {},
   "outputs": [],
   "source": [
    "a.register_parameter('log_outputscale', toTorchParam(3.0), prior=SmoothedBoxPrior(-4,1))"
   ]
  },
  {
   "cell_type": "code",
   "execution_count": null,
   "metadata": {},
   "outputs": [],
   "source": [
    "for name, param, prior in a.named_parameter_priors():\n",
    "    print name, prior.log_prob(param)"
   ]
  },
  {
   "cell_type": "code",
   "execution_count": null,
   "metadata": {},
   "outputs": [],
   "source": []
  },
  {
   "cell_type": "markdown",
   "metadata": {},
   "source": [
    "# Test Symmetrized Spectral Mixture Kernel\n",
    "\n",
    "For locally guassian and long-term anti-correlated"
   ]
  },
  {
   "cell_type": "code",
   "execution_count": null,
   "metadata": {},
   "outputs": [],
   "source": []
  },
  {
   "cell_type": "code",
   "execution_count": null,
   "metadata": {},
   "outputs": [],
   "source": [
    "np.log((1./100)/np.sqrt(2*np.pi**2))"
   ]
  },
  {
   "cell_type": "code",
   "execution_count": null,
   "metadata": {},
   "outputs": [],
   "source": [
    "a= gpytorch.kernels.SpectralMixtureKernel(n_mixtures=2, n_dims=1)\n",
    "\n",
    "x1= torch.tensor(0.).view(1,1,1)\n",
    "x2 = torch.arange(200.).view(1,-1,1)\n",
    "\n",
    "a.log_mixture_weights.data[0] = -100.\n",
    "a.log_mixture_weights.data[1] = 0.\n",
    "a.log_mixture_means.data[0]= 0.\n",
    "a.log_mixture_means.data[1]= 1./200 # Frequency of cosyne\n",
    "a.log_mixture_scales.data[0] = 0.#np.log((1./10)/np.sqrt(2*np.pi**2))\n",
    "a.log_mixture_scales.data[1] = np.log((a.log_mixture_means.data[1]*2.)/np.sqrt(2*np.pi**2)) # log Precision of RBF (from 0), compute as log((1./expected_std)/2.)\n",
    "plot(a.forward(x1, x2).view(-1,1))"
   ]
  },
  {
   "cell_type": "code",
   "execution_count": null,
   "metadata": {},
   "outputs": [],
   "source": [
    "class MexicanHatKernel(Kernel):\n",
    "    def __init__(self, lengthscale=1.):\n",
    "        super(MexicanHatKernel, self).__init__()\n",
    "        self.register_parameter(\n",
    "            'log_lengthscale',\n",
    "            preprocUtils.toTorchParam(lengthscale, ndims=1, to_log=True),\n",
    "            prior = gpytorch.priors.SmoothedBoxPrior(-2.,1.,sigma=0.1)\n",
    "        )\n",
    "    def forward(self, x1, x2):\n",
    "        distance = (x1.unsqueeze(-2) - x2.unsqueeze(-3)).abs()  # distance = x^(i) - z^(i)\n",
    "\n",
    "        exp_term = distance.div(self.log_lengthscale.exp()).pow_(2).mul(-1.)\n",
    "        cos_term = distance.div(self.log_lengthscale.exp()).mul_(math.pi)\n",
    "        res = exp_term.exp_() * cos_term.cos_()\n",
    "\n",
    "        return res.view(x1.size(0), x1.size(1), x2.size(1))"
   ]
  },
  {
   "cell_type": "code",
   "execution_count": null,
   "metadata": {},
   "outputs": [],
   "source": [
    "a = MexicanHatKernel(lengthscale=150.)"
   ]
  },
  {
   "cell_type": "code",
   "execution_count": null,
   "metadata": {},
   "outputs": [],
   "source": [
    "a.forward(x1,x2).shape"
   ]
  },
  {
   "cell_type": "code",
   "execution_count": null,
   "metadata": {},
   "outputs": [],
   "source": [
    "plot(a.forward(x1,x2).view(-1,1))"
   ]
  },
  {
   "cell_type": "code",
   "execution_count": null,
   "metadata": {},
   "outputs": [],
   "source": []
  }
 ],
 "metadata": {
  "kernelspec": {
   "display_name": "Python [conda env:preprocEnv]",
   "language": "python",
   "name": "conda-env-preprocEnv-py"
  },
  "language_info": {
   "codemirror_mode": {
    "name": "ipython",
    "version": 3
   },
   "file_extension": ".py",
   "mimetype": "text/x-python",
   "name": "python",
   "nbconvert_exporter": "python",
   "pygments_lexer": "ipython3",
   "version": "3.7.0"
  }
 },
 "nbformat": 4,
 "nbformat_minor": 2
}
